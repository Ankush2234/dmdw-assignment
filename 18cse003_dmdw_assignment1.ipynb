{
  "nbformat": 4,
  "nbformat_minor": 0,
  "metadata": {
    "colab": {
      "name": " 18cse003 dmdw assignment1.ipynb",
      "provenance": [],
      "collapsed_sections": [],
      "authorship_tag": "ABX9TyMquVVFuH8QHQ6R9zrvGS7F",
      "include_colab_link": true
    },
    "kernelspec": {
      "name": "python3",
      "display_name": "Python 3"
    }
  },
  "cells": [
    {
      "cell_type": "markdown",
      "metadata": {
        "id": "view-in-github",
        "colab_type": "text"
      },
      "source": [
        "<a href=\"https://colab.research.google.com/github/Ankush2234/dmdw-assignment/blob/main/18cse003_dmdw_assignment1.ipynb\" target=\"_parent\"><img src=\"https://colab.research.google.com/assets/colab-badge.svg\" alt=\"Open In Colab\"/></a>"
      ]
    },
    {
      "cell_type": "code",
      "metadata": {
        "colab": {
          "base_uri": "https://localhost:8080/"
        },
        "id": "_2hiy6BCB6TO",
        "outputId": "a5f55b23-9cda-4f08-9a5d-a6008ce0cfe8"
      },
      "source": [
        "(4 + 8 + 6 + 5 + 3 + 2 + 8 + 9 + 2 + 5) /10"
      ],
      "execution_count": null,
      "outputs": [
        {
          "output_type": "execute_result",
          "data": {
            "text/plain": [
              "5.2"
            ]
          },
          "metadata": {
            "tags": []
          },
          "execution_count": 1
        }
      ]
    },
    {
      "cell_type": "code",
      "metadata": {
        "colab": {
          "base_uri": "https://localhost:8080/"
        },
        "id": "JOLgmUSsCXWI",
        "outputId": "ce49713c-f4f3-4f10-da5a-95ddf9655733"
      },
      "source": [
        "import statistics\n",
        "\n",
        "statistics.mean([4, 8, 6, 5, 3, 2, 8, 9, 2, 5])"
      ],
      "execution_count": null,
      "outputs": [
        {
          "output_type": "execute_result",
          "data": {
            "text/plain": [
              "5.2"
            ]
          },
          "metadata": {
            "tags": []
          },
          "execution_count": 2
        }
      ]
    },
    {
      "cell_type": "code",
      "metadata": {
        "colab": {
          "base_uri": "https://localhost:8080/"
        },
        "id": "hniB1pvmCd4E",
        "outputId": "35c9020f-2840-4c95-d638-8503a53b34fe"
      },
      "source": [
        "def my_median(sample):\n",
        "   n = len(sample)\n",
        "   index = n // 2\n",
        "  # Sample with an odd number of observations\n",
        "   if n % 2:\n",
        "        return sorted(sample)[index]\n",
        "  # Sample with an even number of observations\n",
        "        return sum(sorted(sample)[index - 1:index + 1]) / 2\n",
        "\n",
        "\n",
        "my_median([3, 5, 1, 4, 2])"
      ],
      "execution_count": null,
      "outputs": [
        {
          "output_type": "execute_result",
          "data": {
            "text/plain": [
              "3"
            ]
          },
          "metadata": {
            "tags": []
          },
          "execution_count": 3
        }
      ]
    },
    {
      "cell_type": "code",
      "metadata": {
        "colab": {
          "base_uri": "https://localhost:8080/"
        },
        "id": "TP490AhVCgft",
        "outputId": "ec384254-0b10-43a8-ebb9-e7b74483ebbc"
      },
      "source": [
        "import statistics\n",
        "statistics.median([3, 5, 1, 4, 2])"
      ],
      "execution_count": null,
      "outputs": [
        {
          "output_type": "execute_result",
          "data": {
            "text/plain": [
              "3"
            ]
          },
          "metadata": {
            "tags": []
          },
          "execution_count": 4
        }
      ]
    },
    {
      "cell_type": "code",
      "metadata": {
        "colab": {
          "base_uri": "https://localhost:8080/"
        },
        "id": "pN3Lkt_BCtN8",
        "outputId": "b9b58ff6-b974-41d9-b1e1-39bbc2389134"
      },
      "source": [
        "from collections import Counter\n",
        "\n",
        "def my_mode(sample):\n",
        "    c = Counter(sample)\n",
        "    return [k for k, v in c.items() if v == c.most_common(1)[0][1]]\n",
        "\n",
        "\n",
        "my_mode([\"male\", \"male\", \"female\", \"male\"])"
      ],
      "execution_count": null,
      "outputs": [
        {
          "output_type": "execute_result",
          "data": {
            "text/plain": [
              "['male']"
            ]
          },
          "metadata": {
            "tags": []
          },
          "execution_count": 5
        }
      ]
    },
    {
      "cell_type": "code",
      "metadata": {
        "colab": {
          "base_uri": "https://localhost:8080/"
        },
        "id": "wWZi-n2KCvoU",
        "outputId": "0e733faa-1754-413a-aeb6-711a37a5d510"
      },
      "source": [
        "import statistics\n",
        "\n",
        "statistics.mode([4, 1, 2, 2, 3, 5])"
      ],
      "execution_count": null,
      "outputs": [
        {
          "output_type": "execute_result",
          "data": {
            "text/plain": [
              "2"
            ]
          },
          "metadata": {
            "tags": []
          },
          "execution_count": 6
        }
      ]
    },
    {
      "cell_type": "code",
      "metadata": {
        "colab": {
          "base_uri": "https://localhost:8080/"
        },
        "id": "_BSVtLP6C2mB",
        "outputId": "7886aa59-4a61-4c81-b1d5-f0e0b8be4613"
      },
      "source": [
        "def variance(data):\n",
        "     # Number of observations\n",
        "     n = len(data)\n",
        "     # Mean of the data\n",
        "     mean = sum(data) / n\n",
        "     # Square deviations\n",
        "     deviations = [(x - mean) ** 2 for x in data]\n",
        "     # Variance\n",
        "     variance = sum(deviations) / n\n",
        "     return variance\n",
        "\n",
        "variance([4, 8, 6, 5, 3, 2, 8, 9, 2, 5])"
      ],
      "execution_count": null,
      "outputs": [
        {
          "output_type": "execute_result",
          "data": {
            "text/plain": [
              "5.76"
            ]
          },
          "metadata": {
            "tags": []
          },
          "execution_count": 7
        }
      ]
    },
    {
      "cell_type": "code",
      "metadata": {
        "colab": {
          "base_uri": "https://localhost:8080/"
        },
        "id": "GO18L817C7uI",
        "outputId": "7f94a62f-61fd-4e75-fea7-4e4a62b2c472"
      },
      "source": [
        "import statistics\n",
        "\n",
        "statistics.pvariance([4, 8, 6, 5, 3, 2, 8, 9, 2, 5])"
      ],
      "execution_count": null,
      "outputs": [
        {
          "output_type": "execute_result",
          "data": {
            "text/plain": [
              "5.760000000000001"
            ]
          },
          "metadata": {
            "tags": []
          },
          "execution_count": 8
        }
      ]
    },
    {
      "cell_type": "code",
      "metadata": {
        "colab": {
          "base_uri": "https://localhost:8080/"
        },
        "id": "MJigpHQIDAim",
        "outputId": "b0f056ca-75ce-4804-fb18-fd9e2cee5784"
      },
      "source": [
        "import math\n",
        "\n",
        " # We relay on our previous implementation for the variance\n",
        "def variance(data, ddof=0):\n",
        "     n = len(data)\n",
        "     mean = sum(data) / n\n",
        "     return sum((x - mean) ** 2 for x in data) / (n - ddof)\n",
        "\n",
        "def stdev(data):\n",
        "     var = variance(data)\n",
        "     std_dev = math.sqrt(var)\n",
        "     return std_dev\n",
        "\n",
        "stdev([4, 8, 6, 5, 3, 2, 8, 9, 2, 5])"
      ],
      "execution_count": null,
      "outputs": [
        {
          "output_type": "execute_result",
          "data": {
            "text/plain": [
              "2.4"
            ]
          },
          "metadata": {
            "tags": []
          },
          "execution_count": 9
        }
      ]
    },
    {
      "cell_type": "code",
      "metadata": {
        "colab": {
          "base_uri": "https://localhost:8080/"
        },
        "id": "a7DE_h_0DFzf",
        "outputId": "4702e724-f773-4eed-ca9d-a48c2b40f137"
      },
      "source": [
        "import statistics\n",
        "\n",
        "statistics.pstdev([4, 8, 6, 5, 3, 2, 8, 9, 2, 5])"
      ],
      "execution_count": null,
      "outputs": [
        {
          "output_type": "execute_result",
          "data": {
            "text/plain": [
              "2.4000000000000004"
            ]
          },
          "metadata": {
            "tags": []
          },
          "execution_count": 10
        }
      ]
    }
  ]
}